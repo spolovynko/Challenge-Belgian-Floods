{
 "cells": [
  {
   "cell_type": "code",
   "execution_count": 1,
   "source": [
    "### I will test the model against real world clothes images\n",
    "from tensorflow import keras \n",
    "\n",
    "model = keras.models.load_model(\"model/\", compile=False)"
   ],
   "outputs": [
    {
     "output_type": "stream",
     "name": "stderr",
     "text": [
      "2021-07-27 12:29:48.732613: W tensorflow/stream_executor/platform/default/dso_loader.cc:64] Could not load dynamic library 'libcudart.so.11.0'; dlerror: libcudart.so.11.0: cannot open shared object file: No such file or directory\n",
      "2021-07-27 12:29:48.732659: I tensorflow/stream_executor/cuda/cudart_stub.cc:29] Ignore above cudart dlerror if you do not have a GPU set up on your machine.\n",
      "2021-07-27 12:29:53.663043: W tensorflow/stream_executor/platform/default/dso_loader.cc:64] Could not load dynamic library 'libcuda.so.1'; dlerror: libcuda.so.1: cannot open shared object file: No such file or directory\n",
      "2021-07-27 12:29:53.663087: W tensorflow/stream_executor/cuda/cuda_driver.cc:326] failed call to cuInit: UNKNOWN ERROR (303)\n",
      "2021-07-27 12:29:53.663137: I tensorflow/stream_executor/cuda/cuda_diagnostics.cc:156] kernel driver does not appear to be running on this host (user-HP-EliteBook-840-G1): /proc/driver/nvidia/version does not exist\n",
      "2021-07-27 12:29:53.663556: I tensorflow/core/platform/cpu_feature_guard.cc:142] This TensorFlow binary is optimized with oneAPI Deep Neural Network Library (oneDNN) to use the following CPU instructions in performance-critical operations:  AVX2 FMA\n",
      "To enable them in other operations, rebuild TensorFlow with the appropriate compiler flags.\n"
     ]
    }
   ],
   "metadata": {}
  },
  {
   "cell_type": "code",
   "execution_count": 2,
   "source": [
    "predictions = model.predict"
   ],
   "outputs": [],
   "metadata": {}
  },
  {
   "cell_type": "code",
   "execution_count": 3,
   "source": [
    "# TensorFlow and tf.keras\n",
    "import tensorflow as tf\n",
    "\n",
    "# Helper libraries\n",
    "import numpy as np\n",
    "import matplotlib.pyplot as plt\n",
    "\n",
    "print(tf.__version__)\n",
    "### Downloading the data\n",
    "fashion_mnist = tf.keras.datasets.fashion_mnist\n",
    "### Separating the train set and the test_set in 2 numpy arrays\n",
    "(train_images, train_labels), (test_images, test_labels) = fashion_mnist.load_data()"
   ],
   "outputs": [
    {
     "output_type": "stream",
     "name": "stdout",
     "text": [
      "2.5.0\n"
     ]
    }
   ],
   "metadata": {}
  },
  {
   "cell_type": "code",
   "execution_count": 4,
   "source": [
    "import numpy as np\n",
    "from PIL import Image, ImageOps\n",
    "import PIL\n",
    "\n",
    "def resize_img(img):\n",
    "    size = (28,28)\n",
    "    gray_image = ImageOps.grayscale(img)\n",
    "    img = gray_image.resize(size)\n",
    "    image_array = np.array(img)\n",
    "    return image_array"
   ],
   "outputs": [],
   "metadata": {}
  },
  {
   "cell_type": "code",
   "execution_count": 5,
   "source": [
    "### convert image\n",
    "image = Image.open(\"assets/images/tshirt.jpg\")\n",
    "\n",
    "converted_image = resize_img(image)"
   ],
   "outputs": [],
   "metadata": {}
  },
  {
   "cell_type": "code",
   "execution_count": 6,
   "source": [
    "### Standardize image\n",
    "converted_image = converted_image /255.0"
   ],
   "outputs": [],
   "metadata": {}
  },
  {
   "cell_type": "code",
   "execution_count": 7,
   "source": [
    "train_images = train_images/255.0"
   ],
   "outputs": [],
   "metadata": {}
  },
  {
   "cell_type": "code",
   "execution_count": 8,
   "source": [
    "print(train_images.shape)\n",
    "print(converted_image.shape)"
   ],
   "outputs": [
    {
     "output_type": "stream",
     "name": "stdout",
     "text": [
      "(60000, 28, 28)\n",
      "(28, 28)\n"
     ]
    }
   ],
   "metadata": {}
  },
  {
   "cell_type": "code",
   "execution_count": 11,
   "source": [
    "new_array = np.reshape(converted_image, [1,28,28])"
   ],
   "outputs": [],
   "metadata": {}
  },
  {
   "cell_type": "code",
   "execution_count": 14,
   "source": [
    "model.predict(new_array)"
   ],
   "outputs": [
    {
     "output_type": "execute_result",
     "data": {
      "text/plain": [
       "array([[-14.502198 , -43.291477 , -22.916548 , -79.36456  , -41.62297  ,\n",
       "        -17.705887 , -21.58719  , -51.5676   ,   1.2424985, -18.207598 ]],\n",
       "      dtype=float32)"
      ]
     },
     "metadata": {},
     "execution_count": 14
    }
   ],
   "metadata": {}
  },
  {
   "cell_type": "code",
   "execution_count": null,
   "source": [
    "### function to prepare single image for model\n",
    "def prepare_for_model(image):\n",
    "    img = resize_img(image)\n",
    "    img = img /255.0\n",
    "    reshaped_img = np.reshape(img, [1,28,28])\n",
    "    return reshaped_img"
   ],
   "outputs": [],
   "metadata": {}
  }
 ],
 "metadata": {
  "orig_nbformat": 4,
  "language_info": {
   "name": "python",
   "version": "3.8.10",
   "mimetype": "text/x-python",
   "codemirror_mode": {
    "name": "ipython",
    "version": 3
   },
   "pygments_lexer": "ipython3",
   "nbconvert_exporter": "python",
   "file_extension": ".py"
  },
  "kernelspec": {
   "name": "python3",
   "display_name": "Python 3.8.10 64-bit ('floods': venv)"
  },
  "interpreter": {
   "hash": "8bdb4dfea6382e89b557f1b9042afd4f09ef9bd0d1ab456f93d649eb89c2ff07"
  }
 },
 "nbformat": 4,
 "nbformat_minor": 2
}
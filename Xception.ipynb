{
 "cells": [
  {
   "cell_type": "code",
   "execution_count": 3,
   "id": "aaa460a3",
   "metadata": {},
   "outputs": [],
   "source": [
    "import tensorflow.keras\n",
    "from keras.applications.xception import Xception\n",
    "from keras.preprocessing import image\n",
    "from keras.applications.xception import preprocess_input, decode_predictions\n",
    "import numpy as np\n",
    " \n",
    "import PIL\n",
    "from PIL import Image\n",
    "import requests\n",
    "from io import BytesIO\n",
    " \n",
    " "
   ]
  },
  {
   "cell_type": "code",
   "execution_count": 4,
   "id": "ae7cb248",
   "metadata": {},
   "outputs": [
    {
     "name": "stdout",
     "output_type": "stream",
     "text": [
      "Downloading data from https://storage.googleapis.com/tensorflow/keras-applications/xception/xception_weights_tf_dim_ordering_tf_kernels.h5\n",
      "91889664/91884032 [==============================] - 3s 0us/step\n",
      "Downloading data from https://storage.googleapis.com/download.tensorflow.org/data/imagenet_class_index.json\n",
      "40960/35363 [==================================] - 0s 0us/step\n"
     ]
    },
    {
     "data": {
      "text/plain": [
       "[[('n02111889', 'Samoyed', 0.77681077),\n",
       "  ('n02114548', 'white_wolf', 0.1216254),\n",
       "  ('n02120079', 'Arctic_fox', 0.0065596406),\n",
       "  ('n02104029', 'kuvasz', 0.003703939),\n",
       "  ('n02111500', 'Great_Pyrenees', 0.0031766319),\n",
       "  ('n02112018', 'Pomeranian', 0.003123061),\n",
       "  ('n02106030', 'collie', 0.0031003917),\n",
       "  ('n02112137', 'chow', 0.0028912628),\n",
       "  ('n02109961', 'Eskimo_dog', 0.0025866874),\n",
       "  ('n02114367', 'timber_wolf', 0.0008398634),\n",
       "  ('n02106166', 'Border_collie', 0.0008263616),\n",
       "  ('n02134084', 'ice_bear', 0.0007822663),\n",
       "  ('n02085782', 'Japanese_spaniel', 0.00078156684),\n",
       "  ('n02098286', 'West_Highland_white_terrier', 0.0006900343),\n",
       "  ('n02112350', 'keeshond', 0.0006780082),\n",
       "  ('n02105056', 'groenendael', 0.00066997815),\n",
       "  ('n02123394', 'Persian_cat', 0.0005753166),\n",
       "  ('n02105855', 'Shetland_sheepdog', 0.0005204491),\n",
       "  ('n02099601', 'golden_retriever', 0.00051881577),\n",
       "  ('n02094114', 'Norfolk_terrier', 0.000433164)]]"
      ]
     },
     "execution_count": 4,
     "metadata": {},
     "output_type": "execute_result"
    }
   ],
   "source": [
    "\n",
    "# load the model\n",
    "model = Xception(weights='imagenet', include_top=True)\n",
    " \n",
    " \n",
    "# chose the URL image that you want\n",
    "URL = \"https://images.unsplash.com/photo-1529429617124-95b109e86bb8?ixlib=rb-1.2.1&amp;ixid=eyJhcHBfaWQiOjEyMDd9&amp;auto=format&amp;fit=crop&amp;w=500&amp;q=60\"\n",
    " \n",
    " \n",
    "# get the image\n",
    "response = requests.get(URL)\n",
    "img = Image.open(BytesIO(response.content))\n",
    "# resize the image according to each model (see documentation of each model)\n",
    "img = img.resize((299,299))\n",
    " \n",
    "##############################################\n",
    "# if you want to read the image from your PC \n",
    "#############################################\n",
    "# img_path = 'myimage.jpg'\n",
    "# img = image.load_img(img_path, target_size=(299, 299))\n",
    "#############################################\n",
    " \n",
    " \n",
    " \n",
    "# convert to numpy array\n",
    "x = image.img_to_array(img)\n",
    "x = np.expand_dims(x, axis=0)\n",
    "x = preprocess_input(x)\n",
    " \n",
    "features = model.predict(x)\n",
    " \n",
    "# return the top 20 detected objects\n",
    "label = decode_predictions(features, top=20)\n",
    "label"
   ]
  },
  {
   "cell_type": "code",
   "execution_count": null,
   "id": "e66480b5",
   "metadata": {},
   "outputs": [],
   "source": []
  }
 ],
 "metadata": {
  "kernelspec": {
   "display_name": "Python 3",
   "language": "python",
   "name": "python3"
  },
  "language_info": {
   "codemirror_mode": {
    "name": "ipython",
    "version": 3
   },
   "file_extension": ".py",
   "mimetype": "text/x-python",
   "name": "python",
   "nbconvert_exporter": "python",
   "pygments_lexer": "ipython3",
   "version": "3.8.8"
  }
 },
 "nbformat": 4,
 "nbformat_minor": 5
}
